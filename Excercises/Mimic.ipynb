{
 "cells": [
  {
   "cell_type": "markdown",
   "metadata": {},
   "source": [
    "# Mimic exercise\n",
    "\n",
    "Build a \"mimic\" dict that maps each word that appears in the file to a list of all the words that immediately follow that word in the file.\n",
    "\n",
    "The list of words can be be in any order and should include duplicates. So for example the key \"and\" might have the list [\"then\", \"best\", \"then\", \"after\", ...] listing all the words which came after \"and\" in the text. We'll say that the empty string is what comes before the first word in the file.\n",
    "\n",
    "With the mimic dict, it's fairly easy to emit random text that mimics the original. Print a word, then look up what words might come next and pick one at random as the next work.\n",
    "\n",
    "Use the empty string as the first word to prime things. If we ever get stuck with a word that is not in the dict, go back to the empty string to keep things moving.\n",
    "\n",
    "\n",
    "**Note**: The standard python module 'random' includes a random.choice(list) method which picks a random element from a non-empty list.\n",
    "\n",
    "For fun, feed your program to itself as input. Could work on getting it to put in linebreaks around 70 columns, so the output looks better."
   ]
  },
  {
   "cell_type": "code",
   "execution_count": 7,
   "metadata": {},
   "outputs": [],
   "source": [
    "import random\n",
    "import sys\n",
    "from collections import defaultdict"
   ]
  },
  {
   "cell_type": "code",
   "execution_count": 8,
   "metadata": {},
   "outputs": [],
   "source": [
    "# Implement the function file_to_list that receives a filename \n",
    "# and returns a list of words in that file\n",
    "# Use str.split() (no arguments) to split on all whitespace.\n",
    "# for opening and reading a file, look for a functions open(...) and read lines(...)\n",
    "\n",
    "\n",
    "def file_to_string(filename):\n",
    "    \n",
    "    return temp"
   ]
  },
  {
   "cell_type": "code",
   "execution_count": 9,
   "metadata": {},
   "outputs": [],
   "source": [
    "def mimic_dict(list_words):\n",
    "    \n",
    "#print(mimic_dict(file_to_string(\"alice.txt\")))"
   ]
  },
  {
   "cell_type": "code",
   "execution_count": 11,
   "metadata": {},
   "outputs": [
    {
     "name": "stdout",
     "output_type": "stream",
     "text": [
      "finger for some minutes that perhaps you know,' said alice, `we had never heard a louder tone. `nobody seems to listen. `mary ann! mary ann, what a little thing!' said the garden, and was quite enough--i hope i think i to listen to do that,' the other dish? who were resting in the pepper in her feet, they seemed to rest her head sadly. `hand it you have to whisper a long sleep `twinkle, twinkle, twinkle, twinkle--' and alice remained looking as a bat?' when i eat eggs quite forgotten to draw, you know.' `who cares for a good opportunity for she began an unusually large eyes appeared, and so she stopped and in at the dance. would be late!' (when she tried another confusion that assembled on the trumpet, and began in a dance to his shoulder as well. the creatures of you know.' alice felt ready to work shaking him to know. let you didn't mean what are you his shoulder as there was a well--' `what a telescope! i fancied that she said the duchess, `chop off her foot! she again (or grunted, it was going on, `what's the other: he got so that used to say\n"
     ]
    }
   ],
   "source": [
    "def print_mimic(mimic_dict, word):\n",
    "    #\"\"\"Given mimic dict and start word, prints 200 random words.\"\"\"\n",
    "    # +++your code here+++\n",
    "    \n",
    "print_mimic(mimic_dict(file_to_string(\"alice.txt\")),\"one\")"
   ]
  },
  {
   "cell_type": "code",
   "execution_count": null,
   "metadata": {
    "collapsed": true
   },
   "outputs": [],
   "source": []
  }
 ],
 "metadata": {
  "anaconda-cloud": {},
  "kernelspec": {
   "display_name": "Python 2",
   "language": "python",
   "name": "python2"
  },
  "language_info": {
   "codemirror_mode": {
    "name": "ipython",
    "version": 2
   },
   "file_extension": ".py",
   "mimetype": "text/x-python",
   "name": "python",
   "nbconvert_exporter": "python",
   "pygments_lexer": "ipython2",
   "version": "2.7.13"
  }
 },
 "nbformat": 4,
 "nbformat_minor": 1
}
