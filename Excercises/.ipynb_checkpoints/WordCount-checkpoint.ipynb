{
 "cells": [
  {
   "cell_type": "markdown",
   "metadata": {},
   "source": [
    "# Word count exercise\n",
    "You are provided with a file named `alice.txt`. This file contains the famous story **Alice's Adventures in Wonderland**.\n",
    "your goal is to implement the following tasks using that file."
   ]
  },
  {
   "cell_type": "code",
   "execution_count": 2,
   "metadata": {},
   "outputs": [],
   "source": [
    "# Implement the function file_to_list that receives a filename \n",
    "# and returns a list of words in that file\n",
    "# Use str.split() (no arguments) to split on all whitespace.\n",
    "# for opening and reading a file, look for a functions open(...) and read lines(...)\n",
    "\n",
    "from collections import defaultdict\n",
    "def file_to_string():\n",
    "    \n",
    "    \n",
    "#print(sorted(file_to_string()))"
   ]
  },
  {
   "cell_type": "code",
   "execution_count": 1,
   "metadata": {},
   "outputs": [
    {
     "ename": "IndentationError",
     "evalue": "expected an indented block (<ipython-input-1-5698fdce217a>, line 11)",
     "output_type": "error",
     "traceback": [
      "\u001b[0;36m  File \u001b[0;32m\"<ipython-input-1-5698fdce217a>\"\u001b[0;36m, line \u001b[0;32m11\u001b[0m\n\u001b[0;31m    \u001b[0m\n\u001b[0m    ^\u001b[0m\n\u001b[0;31mIndentationError\u001b[0m\u001b[0;31m:\u001b[0m expected an indented block\n"
     ]
    }
   ],
   "source": [
    "# implement a print_words(filename) function that counts\n",
    "# how often each word appears in the text and prints:\n",
    "# word1 count1\n",
    "# word2 count2\n",
    "# ...\n",
    "# Print the above list in order sorted by word (python will sort punctuation to\n",
    "# come before letters -- that's fine). Store all the words as lowercase,\n",
    "# so 'The' and 'the' count as the same word.\n",
    "\n",
    "def print_count(list_of_words):\n",
    "    "
   ]
  },
  {
   "cell_type": "code",
   "execution_count": 36,
   "metadata": {},
   "outputs": [
    {
     "name": "stdout",
     "output_type": "stream",
     "text": [
      "the : 1605\n",
      "and : 766\n",
      "to : 706\n",
      "a : 614\n",
      "she : 518\n",
      "of : 493\n",
      "said : 421\n",
      "it : 362\n",
      "in : 352\n",
      "was : 333\n",
      "you : 265\n",
      "i : 261\n",
      "as : 249\n",
      "that : 222\n",
      "alice : 221\n",
      "her : 208\n",
      "at : 206\n",
      "had : 176\n",
      "with : 169\n",
      "all : 155\n"
     ]
    }
   ],
   "source": [
    "# implement a print_top(filename) which is similar\n",
    "# to print_words() but which prints just the top 20 most common words sorted\n",
    "# so the most common word is first, then the next most common, and so on.\n",
    "\n",
    "\n",
    "def print_top(list_of_words):\n",
    "    \n"
   ]
  },
  {
   "cell_type": "code",
   "execution_count": null,
   "metadata": {
    "collapsed": true
   },
   "outputs": [],
   "source": []
  }
 ],
 "metadata": {
  "anaconda-cloud": {},
  "kernelspec": {
   "display_name": "Python 2",
   "language": "python",
   "name": "python2"
  },
  "language_info": {
   "codemirror_mode": {
    "name": "ipython",
    "version": 2
   },
   "file_extension": ".py",
   "mimetype": "text/x-python",
   "name": "python",
   "nbconvert_exporter": "python",
   "pygments_lexer": "ipython2",
   "version": "2.7.13"
  }
 },
 "nbformat": 4,
 "nbformat_minor": 1
}
