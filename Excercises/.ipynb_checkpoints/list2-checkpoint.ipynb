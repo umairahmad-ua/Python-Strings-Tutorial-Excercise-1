{
 "cells": [
  {
   "cell_type": "code",
   "execution_count": 3,
   "metadata": {},
   "outputs": [],
   "source": [
    "#a=[1,2,2,2,4,2,2,2,1,1,3]\n",
    "# In[1]:\n",
    "# D. Given a list of numbers, return a list where\n",
    "# all adjacent == elements have been reduced to a single element,\n",
    "# so [1, 2, 2, 3] returns [1, 2, 3]. You may create a new list or\n",
    "# modify the passed in list.\n",
    "def remove_adjacent(nums):\n",
    " "
   ]
  },
  {
   "cell_type": "code",
   "execution_count": 4,
   "metadata": {},
   "outputs": [],
   "source": [
    "# E. Given two lists sorted in increasing order, create and return a merged\n",
    "# list of all the elements in sorted order. You may modify the passed in lists.\n",
    "# Ideally, the solution should work in \"linear\" time, making a single\n",
    "# pass of both lists.\n",
    "def linear_merge(list1, list2):\n",
    "    \n",
    "\n"
   ]
  },
  {
   "cell_type": "code",
   "execution_count": 5,
   "metadata": {},
   "outputs": [],
   "source": [
    "listtemp=[0,1,2,3,4,5]\n",
    "# Note: the solution above is kind of cute, but unforunately list.pop(0)\n",
    "# is not constant time with the standard python list implementation, so\n",
    "# the above is not strictly linear time.\n",
    "# An alternate approach uses pop(-1) to remove the endmost elements\n",
    "# from each list, building a solution list which is backwards.\n",
    "# Then use reversed() to put the result back in the correct order. That\n",
    "# solution works in linear time, but is more ugly.\n",
    "def rev(l1):\n",
    "    \n"
   ]
  },
  {
   "cell_type": "code",
   "execution_count": 6,
   "metadata": {},
   "outputs": [],
   "source": [
    "# Simple provided test() function used in main() to print\n",
    "# what each function returns vs. what it's supposed to return.\n",
    "def test(got, expected):\n",
    "  if got == expected:\n",
    "    prefix = ' OK '\n",
    "  else:\n",
    "    prefix = '  X '\n",
    "  print '%s got: %s expected: %s' % (prefix, repr(got), repr(expected))\n",
    "\n"
   ]
  },
  {
   "cell_type": "code",
   "execution_count": 7,
   "metadata": {},
   "outputs": [
    {
     "name": "stdout",
     "output_type": "stream",
     "text": [
      "remove_adjacent\n",
      " OK  got: [1, 2, 3] expected: [1, 2, 3]\n",
      " OK  got: [2, 3] expected: [2, 3]\n",
      " OK  got: [] expected: []\n",
      "\n",
      "linear_merge\n",
      " OK  got: ['aa', 'bb', 'cc', 'xx', 'zz'] expected: ['aa', 'bb', 'cc', 'xx', 'zz']\n",
      " OK  got: ['aa', 'bb', 'cc', 'xx', 'zz'] expected: ['aa', 'bb', 'cc', 'xx', 'zz']\n",
      " OK  got: ['aa', 'aa', 'aa', 'bb', 'bb'] expected: ['aa', 'aa', 'aa', 'bb', 'bb']\n"
     ]
    }
   ],
   "source": [
    "# Calls the above functions with interesting inputs.\n",
    "print 'remove_adjacent'\n",
    "test(remove_adjacent([1, 2, 2, 3]), [1, 2, 3])\n",
    "test(remove_adjacent([2, 2, 3, 3, 3]), [2, 3])\n",
    "test(remove_adjacent([]), [])\n",
    "\n",
    "print\n",
    "print 'linear_merge'\n",
    "test(linear_merge(['aa', 'xx', 'zz'], ['bb', 'cc']),\n",
    "     ['aa', 'bb', 'cc', 'xx', 'zz'])\n",
    "test(linear_merge(['aa', 'xx'], ['bb', 'cc', 'zz']),\n",
    "     ['aa', 'bb', 'cc', 'xx', 'zz'])\n",
    "test(linear_merge(['aa', 'aa'], ['aa', 'bb', 'bb']),\n",
    "     ['aa', 'aa', 'aa', 'bb', 'bb'])\n"
   ]
  },
  {
   "cell_type": "code",
   "execution_count": null,
   "metadata": {
    "collapsed": true
   },
   "outputs": [],
   "source": []
  }
 ],
 "metadata": {
  "kernelspec": {
   "display_name": "Python 2",
   "language": "python",
   "name": "python2"
  },
  "language_info": {
   "codemirror_mode": {
    "name": "ipython",
    "version": 2
   },
   "file_extension": ".py",
   "mimetype": "text/x-python",
   "name": "python",
   "nbconvert_exporter": "python",
   "pygments_lexer": "ipython2",
   "version": "2.7.13"
  }
 },
 "nbformat": 4,
 "nbformat_minor": 1
}
